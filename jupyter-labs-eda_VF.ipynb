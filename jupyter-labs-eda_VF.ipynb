{
 "cells":[
  {
   "cell_type":"markdown",
   "source":[
    "<p style=\"text-align:center\">\n",
    "    <a href=\"https:\/\/skills.network\/?utm_medium=Exinfluencer&utm_source=Exinfluencer&utm_content=000026UJ&utm_term=10006555&utm_id=NA-SkillsNetwork-Channel-SkillsNetworkCoursesIBMDS0321ENSkillsNetwork26802033-2022-01-01\" target=\"_blank\">\n",
    "    <img src=\"https:\/\/cf-courses-data.s3.us.cloud-object-storage.appdomain.cloud\/assets\/logos\/SN_web_lightmode.png\" width=\"200\" alt=\"Skills Network Logo\"  \/>\n",
    "    <\/a>\n",
    "<\/p>"
   ],
   "attachments":{
    
   },
   "metadata":{
    "datalore":{
     "node_id":"bht94lBk8VVQvCc3iQC3Dy",
     "type":"MD",
     "hide_input_from_viewers":false,
     "hide_output_from_viewers":false,
     "report_properties":{
      "rowId":"rQbtipQMmveWJKQW9CTbXh"
     }
    }
   }
  },
  {
   "cell_type":"markdown",
   "source":[
    "# **SpaceX  Falcon 9 First Stage Landing Prediction**"
   ],
   "attachments":{
    
   },
   "metadata":{
    "datalore":{
     "node_id":"syDhZuezNWf5JtcMaPNUAO",
     "type":"MD",
     "hide_input_from_viewers":false,
     "hide_output_from_viewers":false,
     "report_properties":{
      "rowId":"rQbtipQMmveWJKQW9CTbXh"
     }
    }
   }
  },
  {
   "cell_type":"markdown",
   "source":[
    "## Assignment: Exploring and Preparing Data"
   ],
   "attachments":{
    
   },
   "metadata":{
    "datalore":{
     "node_id":"Za8O8qCXJDUaXPr5s8l8vu",
     "type":"MD",
     "hide_input_from_viewers":false,
     "hide_output_from_viewers":false,
     "report_properties":{
      "rowId":"rQbtipQMmveWJKQW9CTbXh"
     }
    }
   }
  },
  {
   "cell_type":"markdown",
   "source":[
    "Estimated time needed: **70** minutes"
   ],
   "attachments":{
    
   },
   "metadata":{
    "datalore":{
     "node_id":"yJyF7feJ7SvC3YlgBGrArB",
     "type":"MD",
     "hide_input_from_viewers":false,
     "hide_output_from_viewers":false,
     "report_properties":{
      "rowId":"rQbtipQMmveWJKQW9CTbXh"
     }
    }
   }
  },
  {
   "cell_type":"markdown",
   "source":[
    "In this assignment, we will predict if the Falcon 9 first stage will land successfully. SpaceX advertises Falcon 9 rocket launches on its website with a cost of 62 million dollars; other providers cost upward of 165 million dollars each, much of the savings is due to the fact that SpaceX can reuse the first stage.\n",
    "\n",
    "In this lab, you will perform Exploratory Data Analysis and Feature Engineering."
   ],
   "attachments":{
    
   },
   "metadata":{
    "datalore":{
     "node_id":"pOXo7DgPYItmWh1Hgb8dJF",
     "type":"MD",
     "hide_input_from_viewers":false,
     "hide_output_from_viewers":false,
     "report_properties":{
      "rowId":"rQbtipQMmveWJKQW9CTbXh"
     }
    }
   }
  },
  {
   "cell_type":"markdown",
   "source":[
    "Falcon 9 first stage will land successfully"
   ],
   "attachments":{
    
   },
   "metadata":{
    "datalore":{
     "node_id":"AGlfa9Q82lXphv9BEc0WzY",
     "type":"MD",
     "hide_input_from_viewers":false,
     "hide_output_from_viewers":false,
     "report_properties":{
      "rowId":"rQbtipQMmveWJKQW9CTbXh"
     }
    }
   }
  },
  {
   "cell_type":"markdown",
   "source":[
    "![](https:\/\/cf-courses-data.s3.us.cloud-object-storage.appdomain.cloud\/IBMDeveloperSkillsNetwork-DS0701EN-SkillsNetwork\/api\/Images\/landing\\_1.gif)"
   ],
   "attachments":{
    
   },
   "metadata":{
    "datalore":{
     "node_id":"bSKa3owxixNpCQK1XdieuZ",
     "type":"MD",
     "hide_input_from_viewers":false,
     "hide_output_from_viewers":false,
     "report_properties":{
      "rowId":"rQbtipQMmveWJKQW9CTbXh"
     }
    }
   }
  },
  {
   "cell_type":"markdown",
   "source":[
    "Several examples of an unsuccessful landing are shown here:"
   ],
   "attachments":{
    
   },
   "metadata":{
    "datalore":{
     "node_id":"0fsXcjuuWgxWNjgU6sowfK",
     "type":"MD",
     "hide_input_from_viewers":false,
     "hide_output_from_viewers":false,
     "report_properties":{
      "rowId":"rQbtipQMmveWJKQW9CTbXh"
     }
    }
   }
  },
  {
   "cell_type":"markdown",
   "source":[
    "![](https:\/\/cf-courses-data.s3.us.cloud-object-storage.appdomain.cloud\/IBMDeveloperSkillsNetwork-DS0701EN-SkillsNetwork\/api\/Images\/crash.gif)"
   ],
   "attachments":{
    
   },
   "metadata":{
    "datalore":{
     "node_id":"KcmdFTHu8BfBd76fj63U5s",
     "type":"MD",
     "hide_input_from_viewers":false,
     "hide_output_from_viewers":false,
     "report_properties":{
      "rowId":"rQbtipQMmveWJKQW9CTbXh"
     }
    }
   }
  },
  {
   "cell_type":"markdown",
   "source":[
    "Most unsuccessful landings are planned. Space X performs a controlled landing in the oceans."
   ],
   "attachments":{
    
   },
   "metadata":{
    "datalore":{
     "node_id":"poamXc1CHgyoTxGsW7mVSA",
     "type":"MD",
     "hide_input_from_viewers":false,
     "hide_output_from_viewers":false,
     "report_properties":{
      "rowId":"rQbtipQMmveWJKQW9CTbXh"
     }
    }
   }
  },
  {
   "cell_type":"markdown",
   "source":[
    "## Objectives\n",
    "\n",
    "Perform exploratory Data Analysis and Feature Engineering using `Pandas` and `Matplotlib`\n",
    "\n",
    "*   Exploratory Data Analysis\n",
    "*   Preparing Data  Feature Engineering"
   ],
   "attachments":{
    
   },
   "metadata":{
    "datalore":{
     "node_id":"iPIM3Z9dqoOkAw68vo4ptF",
     "type":"MD",
     "hide_input_from_viewers":false,
     "hide_output_from_viewers":false,
     "report_properties":{
      "rowId":"rQbtipQMmveWJKQW9CTbXh"
     }
    }
   }
  },
  {
   "cell_type":"markdown",
   "source":[
    "***"
   ],
   "attachments":{
    
   },
   "metadata":{
    "datalore":{
     "node_id":"K6duFqwkBCwFf5SJOjAcQP",
     "type":"MD",
     "hide_input_from_viewers":false,
     "hide_output_from_viewers":false,
     "report_properties":{
      "rowId":"rQbtipQMmveWJKQW9CTbXh"
     }
    }
   }
  },
  {
   "cell_type":"markdown",
   "source":[
    "### Import Libraries and Define Auxiliary Functions"
   ],
   "attachments":{
    
   },
   "metadata":{
    "datalore":{
     "node_id":"T8b80eUiHi6EUNRWgxxELi",
     "type":"MD",
     "hide_input_from_viewers":false,
     "hide_output_from_viewers":false,
     "report_properties":{
      "rowId":"rQbtipQMmveWJKQW9CTbXh"
     }
    }
   }
  },
  {
   "cell_type":"markdown",
   "source":[
    "We will import the following libraries the lab"
   ],
   "attachments":{
    
   },
   "metadata":{
    "datalore":{
     "node_id":"5oszsv7zu1z5ct1wdZKd99",
     "type":"MD",
     "hide_input_from_viewers":false,
     "hide_output_from_viewers":false,
     "report_properties":{
      "rowId":"rQbtipQMmveWJKQW9CTbXh"
     }
    }
   }
  },
  {
   "cell_type":"code",
   "source":[
    "# andas is a software library written for the Python programming language for data manipulation and analysis.\n",
    "import pandas as pd\n",
    "#NumPy is a library for the Python programming language, adding support for large, multi-dimensional arrays and matrices, along with a large collection of high-level mathematical functions to operate on these arrays\n",
    "import numpy as np\n",
    "# Matplotlib is a plotting library for python and pyplot gives us a MatLab like plotting framework. We will use this in our plotter function to plot data.\n",
    "import matplotlib.pyplot as plt\n",
    "#Seaborn is a Python data visualization library based on matplotlib. It provides a high-level interface for drawing attractive and informative statistical graphics\n",
    "import seaborn as sns"
   ],
   "execution_count":1,
   "outputs":[
    
   ],
   "metadata":{
    "datalore":{
     "node_id":"ok8jX6TYEBluFE7uvY8p1R",
     "type":"CODE",
     "hide_input_from_viewers":false,
     "hide_output_from_viewers":false,
     "report_properties":{
      "rowId":"rQbtipQMmveWJKQW9CTbXh"
     }
    }
   }
  },
  {
   "cell_type":"markdown",
   "source":[
    "## Exploratory Data Analysis"
   ],
   "attachments":{
    
   },
   "metadata":{
    "datalore":{
     "node_id":"RFdBKQpxTKjkGunUT2gQo5",
     "type":"MD",
     "hide_input_from_viewers":false,
     "hide_output_from_viewers":false,
     "report_properties":{
      "rowId":"rQbtipQMmveWJKQW9CTbXh"
     }
    }
   }
  },
  {
   "cell_type":"markdown",
   "source":[
    "First, let's read the SpaceX dataset into a Pandas dataframe and print its summary"
   ],
   "attachments":{
    
   },
   "metadata":{
    "datalore":{
     "node_id":"XiXzo31Bvu3PqsOU9MqEHo",
     "type":"MD",
     "hide_input_from_viewers":false,
     "hide_output_from_viewers":false,
     "report_properties":{
      "rowId":"rQbtipQMmveWJKQW9CTbXh"
     }
    }
   }
  },
  {
   "cell_type":"code",
   "source":[
    "df=pd.read_csv(\"https:\/\/cf-courses-data.s3.us.cloud-object-storage.appdomain.cloud\/IBM-DS0321EN-SkillsNetwork\/datasets\/dataset_part_2.csv\")\n",
    "\n",
    "# If you were unable to complete the previous lab correctly you can uncomment and load this csv\n",
    "\n",
    "# df = pd.read_csv('https:\/\/cf-courses-data.s3.us.cloud-object-storage.appdomain.cloud\/IBMDeveloperSkillsNetwork-DS0701EN-SkillsNetwork\/api\/dataset_part_2.csv')\n",
    "\n",
    "df.head()"
   ],
   "execution_count":2,
   "outputs":[
    {
     "data":{
      "text\/html":[
       "<div>\n",
       "<style scoped>\n",
       "    .dataframe tbody tr th:only-of-type {\n",
       "        vertical-align: middle;\n",
       "    }\n",
       "\n",
       "    .dataframe tbody tr th {\n",
       "        vertical-align: top;\n",
       "    }\n",
       "\n",
       "    .dataframe thead th {\n",
       "        text-align: right;\n",
       "    }\n",
       "<\/style>\n",
       "<table border=\"1\" class=\"dataframe\">\n",
       "  <thead>\n",
       "    <tr style=\"text-align: right;\">\n",
       "      <th><\/th>\n",
       "      <th>FlightNumber<\/th>\n",
       "      <th>Date<\/th>\n",
       "      <th>BoosterVersion<\/th>\n",
       "      <th>PayloadMass<\/th>\n",
       "      <th>Orbit<\/th>\n",
       "      <th>LaunchSite<\/th>\n",
       "      <th>Outcome<\/th>\n",
       "      <th>Flights<\/th>\n",
       "      <th>GridFins<\/th>\n",
       "      <th>Reused<\/th>\n",
       "      <th>Legs<\/th>\n",
       "      <th>LandingPad<\/th>\n",
       "      <th>Block<\/th>\n",
       "      <th>ReusedCount<\/th>\n",
       "      <th>Serial<\/th>\n",
       "      <th>Longitude<\/th>\n",
       "      <th>Latitude<\/th>\n",
       "      <th>Class<\/th>\n",
       "    <\/tr>\n",
       "  <\/thead>\n",
       "  <tbody>\n",
       "    <tr>\n",
       "      <th>0<\/th>\n",
       "      <td>1<\/td>\n",
       "      <td>2010-06-04<\/td>\n",
       "      <td>Falcon 9<\/td>\n",
       "      <td>6104.959412<\/td>\n",
       "      <td>LEO<\/td>\n",
       "      <td>CCAFS SLC 40<\/td>\n",
       "      <td>None None<\/td>\n",
       "      <td>1<\/td>\n",
       "      <td>False<\/td>\n",
       "      <td>False<\/td>\n",
       "      <td>False<\/td>\n",
       "      <td>NaN<\/td>\n",
       "      <td>1.0<\/td>\n",
       "      <td>0<\/td>\n",
       "      <td>B0003<\/td>\n",
       "      <td>-80.577366<\/td>\n",
       "      <td>28.561857<\/td>\n",
       "      <td>0<\/td>\n",
       "    <\/tr>\n",
       "    <tr>\n",
       "      <th>1<\/th>\n",
       "      <td>2<\/td>\n",
       "      <td>2012-05-22<\/td>\n",
       "      <td>Falcon 9<\/td>\n",
       "      <td>525.000000<\/td>\n",
       "      <td>LEO<\/td>\n",
       "      <td>CCAFS SLC 40<\/td>\n",
       "      <td>None None<\/td>\n",
       "      <td>1<\/td>\n",
       "      <td>False<\/td>\n",
       "      <td>False<\/td>\n",
       "      <td>False<\/td>\n",
       "      <td>NaN<\/td>\n",
       "      <td>1.0<\/td>\n",
       "      <td>0<\/td>\n",
       "      <td>B0005<\/td>\n",
       "      <td>-80.577366<\/td>\n",
       "      <td>28.561857<\/td>\n",
       "      <td>0<\/td>\n",
       "    <\/tr>\n",
       "    <tr>\n",
       "      <th>2<\/th>\n",
       "      <td>3<\/td>\n",
       "      <td>2013-03-01<\/td>\n",
       "      <td>Falcon 9<\/td>\n",
       "      <td>677.000000<\/td>\n",
       "      <td>ISS<\/td>\n",
       "      <td>CCAFS SLC 40<\/td>\n",
       "      <td>None None<\/td>\n",
       "      <td>1<\/td>\n",
       "      <td>False<\/td>\n",
       "      <td>False<\/td>\n",
       "      <td>False<\/td>\n",
       "      <td>NaN<\/td>\n",
       "      <td>1.0<\/td>\n",
       "      <td>0<\/td>\n",
       "      <td>B0007<\/td>\n",
       "      <td>-80.577366<\/td>\n",
       "      <td>28.561857<\/td>\n",
       "      <td>0<\/td>\n",
       "    <\/tr>\n",
       "    <tr>\n",
       "      <th>3<\/th>\n",
       "      <td>4<\/td>\n",
       "      <td>2013-09-29<\/td>\n",
       "      <td>Falcon 9<\/td>\n",
       "      <td>500.000000<\/td>\n",
       "      <td>PO<\/td>\n",
       "      <td>VAFB SLC 4E<\/td>\n",
       "      <td>False Ocean<\/td>\n",
       "      <td>1<\/td>\n",
       "      <td>False<\/td>\n",
       "      <td>False<\/td>\n",
       "      <td>False<\/td>\n",
       "      <td>NaN<\/td>\n",
       "      <td>1.0<\/td>\n",
       "      <td>0<\/td>\n",
       "      <td>B1003<\/td>\n",
       "      <td>-120.610829<\/td>\n",
       "      <td>34.632093<\/td>\n",
       "      <td>0<\/td>\n",
       "    <\/tr>\n",
       "    <tr>\n",
       "      <th>4<\/th>\n",
       "      <td>5<\/td>\n",
       "      <td>2013-12-03<\/td>\n",
       "      <td>Falcon 9<\/td>\n",
       "      <td>3170.000000<\/td>\n",
       "      <td>GTO<\/td>\n",
       "      <td>CCAFS SLC 40<\/td>\n",
       "      <td>None None<\/td>\n",
       "      <td>1<\/td>\n",
       "      <td>False<\/td>\n",
       "      <td>False<\/td>\n",
       "      <td>False<\/td>\n",
       "      <td>NaN<\/td>\n",
       "      <td>1.0<\/td>\n",
       "      <td>0<\/td>\n",
       "      <td>B1004<\/td>\n",
       "      <td>-80.577366<\/td>\n",
       "      <td>28.561857<\/td>\n",
       "      <td>0<\/td>\n",
       "    <\/tr>\n",
       "  <\/tbody>\n",
       "<\/table>\n",
       "<\/div>"
      ]
     },
     "metadata":{
      
     },
     "output_type":"display_data"
    }
   ],
   "metadata":{
    "datalore":{
     "node_id":"DGGBw8mXdW5CPp3dWQuPil",
     "type":"CODE",
     "hide_input_from_viewers":false,
     "hide_output_from_viewers":false,
     "report_properties":{
      "rowId":"rQbtipQMmveWJKQW9CTbXh"
     }
    }
   }
  },
  {
   "cell_type":"markdown",
   "source":[
    "First, let's try to see how the `FlightNumber` (indicating the continuous launch attempts.) and `Payload` variables would affect the launch outcome.\n",
    "\n",
    "We can plot out the <code>FlightNumber<\/code> vs. <code>PayloadMass<\/code>and overlay the outcome of the launch. We see that as the flight number increases, the first stage is more likely to land successfully. The payload mass is also important; it seems the more massive the payload, the less likely the first stage will return."
   ],
   "attachments":{
    
   },
   "metadata":{
    "datalore":{
     "node_id":"rvyY8EttJ4N63bQWZPG2uy",
     "type":"MD",
     "hide_input_from_viewers":false,
     "hide_output_from_viewers":false,
     "report_properties":{
      "rowId":"rQbtipQMmveWJKQW9CTbXh"
     }
    }
   }
  },
  {
   "cell_type":"code",
   "source":[
    "fig = sns.catplot(y=\"PayloadMass\", x=\"FlightNumber\", hue=\"Class\", data=df, aspect = 5)\n",
    "plt.xlabel(\"Flight Number\",fontsize=20)\n",
    "plt.ylabel(\"Pay load Mass (kg)\",fontsize=20)\n",
    "plt.show()\n",
    "fig.savefig('FNvsPLM.png')"
   ],
   "execution_count":3,
   "outputs":[
    {
     "data":{
      "image\/png":"[encoded data removed]"
     },
     "metadata":{
      "image\/png":{
       
      }
     },
     "output_type":"display_data"
    }
   ],
   "metadata":{
    "datalore":{
     "node_id":"TO7Wi5086sg1TAejnvI5Ak",
     "type":"CODE",
     "hide_input_from_viewers":false,
     "hide_output_from_viewers":false,
     "report_properties":{
      "rowId":"rQbtipQMmveWJKQW9CTbXh"
     }
    }
   }
  },
  {
   "cell_type":"markdown",
   "source":[
    "We see that different launch sites have different success rates.  <code>CCAFS LC-40<\/code>, has a success rate of 60 %, while  <code>KSC LC-39A<\/code> and <code>VAFB SLC 4E<\/code> has a success rate of 77%."
   ],
   "attachments":{
    
   },
   "metadata":{
    "datalore":{
     "node_id":"DyEbtMGZZWk2sOpxE7WUb0",
     "type":"MD",
     "hide_input_from_viewers":false,
     "hide_output_from_viewers":false,
     "report_properties":{
      "rowId":"rQbtipQMmveWJKQW9CTbXh"
     }
    }
   }
  },
  {
   "cell_type":"markdown",
   "source":[
    "Next, let's drill down to each site visualize its detailed launch records."
   ],
   "attachments":{
    
   },
   "metadata":{
    "datalore":{
     "node_id":"whTHBVYiHqgTfHEy8BOsjv",
     "type":"MD",
     "hide_input_from_viewers":false,
     "hide_output_from_viewers":false,
     "report_properties":{
      "rowId":"rQbtipQMmveWJKQW9CTbXh"
     }
    }
   }
  },
  {
   "cell_type":"markdown",
   "source":[
    "### TASK 1: Visualize the relationship between Flight Number and Launch Site"
   ],
   "attachments":{
    
   },
   "metadata":{
    "datalore":{
     "node_id":"S2VCenYVjcf1fdzUB1bWyQ",
     "type":"MD",
     "hide_input_from_viewers":false,
     "hide_output_from_viewers":false,
     "report_properties":{
      "rowId":"rQbtipQMmveWJKQW9CTbXh"
     }
    }
   }
  },
  {
   "cell_type":"markdown",
   "source":[
    "Use the function <code>catplot<\/code> to plot <code>FlightNumber<\/code> vs <code>LaunchSite<\/code>, set the  parameter <code>x<\/code>  parameter to <code>FlightNumber<\/code>,set the  <code>y<\/code> to <code>Launch Site<\/code> and set the parameter <code>hue<\/code> to <code>'class'<\/code>"
   ],
   "attachments":{
    
   },
   "metadata":{
    "datalore":{
     "node_id":"iqSpCGsAXMcZCQHf3eH0mR",
     "type":"MD",
     "hide_input_from_viewers":false,
     "hide_output_from_viewers":false,
     "report_properties":{
      "rowId":"rQbtipQMmveWJKQW9CTbXh"
     }
    }
   }
  },
  {
   "cell_type":"code",
   "source":[
    "# Plot a scatter point chart with x axis to be Flight Number and y axis to be the launch site, and hue to be the class value\n",
    "fig = sns.catplot(y=\"LaunchSite\", x=\"FlightNumber\", hue=\"Class\", data=df, aspect = 5)\n",
    "plt.xlabel(\"Flight Number\",fontsize=20)\n",
    "plt.ylabel(\"Launch Site\",fontsize=20)\n",
    "plt.show()\n",
    "fig.savefig('FNvsLS.png')"
   ],
   "execution_count":4,
   "outputs":[
    {
     "data":{
      "image\/png":"[encoded data removed]"
     },
     "metadata":{
      "image\/png":{
       
      }
     },
     "output_type":"display_data"
    }
   ],
   "metadata":{
    "datalore":{
     "node_id":"go0KRCOZRm8OaG7mfSEYQX",
     "type":"CODE",
     "hide_input_from_viewers":false,
     "hide_output_from_viewers":false,
     "report_properties":{
      "rowId":"rQbtipQMmveWJKQW9CTbXh"
     }
    }
   }
  },
  {
   "cell_type":"markdown",
   "source":[
    "Now try to explain the patterns you found in the Flight Number vs. Launch Site scatter point plots."
   ],
   "attachments":{
    
   },
   "metadata":{
    "datalore":{
     "node_id":"KXk2RY8I4fnN63FmND9sqK",
     "type":"MD",
     "hide_input_from_viewers":false,
     "hide_output_from_viewers":false,
     "report_properties":{
      "rowId":"rQbtipQMmveWJKQW9CTbXh"
     }
    }
   }
  },
  {
   "cell_type":"markdown",
   "source":[
    "### TASK 2: Visualize the relationship between Payload and Launch Site"
   ],
   "attachments":{
    
   },
   "metadata":{
    "datalore":{
     "node_id":"7LHGGDFFG93AKgI9MD2LhJ",
     "type":"MD",
     "hide_input_from_viewers":false,
     "hide_output_from_viewers":false,
     "report_properties":{
      "rowId":"rQbtipQMmveWJKQW9CTbXh"
     }
    }
   }
  },
  {
   "cell_type":"markdown",
   "source":[
    "We also want to observe if there is any relationship between launch sites and their payload mass."
   ],
   "attachments":{
    
   },
   "metadata":{
    "datalore":{
     "node_id":"NzW38V2Y0w6mjomRUMGxyL",
     "type":"MD",
     "hide_input_from_viewers":false,
     "hide_output_from_viewers":false,
     "report_properties":{
      "rowId":"rQbtipQMmveWJKQW9CTbXh"
     }
    }
   }
  },
  {
   "cell_type":"code",
   "source":[
    "# Plot a scatter point chart with x axis to be Pay Load Mass (kg) and y axis to be the launch site, and hue to be the class value\n",
    "fig = sns.catplot(y=\"LaunchSite\", x=\"PayloadMass\", hue=\"Class\", data=df, aspect = 5)\n",
    "plt.xlabel(\"Pay load Mass (kg)\",fontsize=20)\n",
    "plt.ylabel(\"Launch Site\",fontsize=20)\n",
    "plt.show()\n",
    "fig.savefig('PLMvsLS.png')"
   ],
   "execution_count":5,
   "outputs":[
    {
     "data":{
      "image\/png":"[encoded data removed]"
     },
     "metadata":{
      "image\/png":{
       
      }
     },
     "output_type":"display_data"
    }
   ],
   "metadata":{
    "datalore":{
     "node_id":"R8huLpmJxdXqb1oeBdHC1M",
     "type":"CODE",
     "hide_input_from_viewers":false,
     "hide_output_from_viewers":false,
     "report_properties":{
      "rowId":"rQbtipQMmveWJKQW9CTbXh"
     }
    }
   }
  },
  {
   "cell_type":"markdown",
   "source":[
    "Now if you observe Payload Vs. Launch Site scatter point chart you will find for the VAFB-SLC  launchsite there are no  rockets  launched for  heavypayload mass(greater than 10000)."
   ],
   "attachments":{
    
   },
   "metadata":{
    "datalore":{
     "node_id":"t3Jv6hKwUFl0mS9pfg9I1N",
     "type":"MD",
     "hide_input_from_viewers":false,
     "hide_output_from_viewers":false,
     "report_properties":{
      "rowId":"rQbtipQMmveWJKQW9CTbXh"
     }
    }
   }
  },
  {
   "cell_type":"markdown",
   "source":[
    "### TASK  3: Visualize the relationship between success rate of each orbit type"
   ],
   "attachments":{
    
   },
   "metadata":{
    "datalore":{
     "node_id":"hVQQvccgTFWFFH1B2F1JvP",
     "type":"MD",
     "hide_input_from_viewers":false,
     "hide_output_from_viewers":false,
     "report_properties":{
      "rowId":"rQbtipQMmveWJKQW9CTbXh"
     }
    }
   }
  },
  {
   "cell_type":"markdown",
   "source":[
    "Next, we want to visually check if there are any relationship between success rate and orbit type."
   ],
   "attachments":{
    
   },
   "metadata":{
    "datalore":{
     "node_id":"uiOve1SP1WPL5bF7fcvty7",
     "type":"MD",
     "hide_input_from_viewers":false,
     "hide_output_from_viewers":false,
     "report_properties":{
      "rowId":"rQbtipQMmveWJKQW9CTbXh"
     }
    }
   }
  },
  {
   "cell_type":"markdown",
   "source":[
    "Let's create a `bar chart` for the sucess rate of each orbit"
   ],
   "attachments":{
    
   },
   "metadata":{
    "datalore":{
     "node_id":"43kxHOz9IJPEeY2sf9pKTl",
     "type":"MD",
     "hide_input_from_viewers":false,
     "hide_output_from_viewers":false,
     "report_properties":{
      "rowId":"rQbtipQMmveWJKQW9CTbXh"
     }
    }
   }
  },
  {
   "cell_type":"code",
   "source":[
    "# HINT use groupby method on Orbit column and get the mean of Class column\n",
    "df.groupby('Orbit')['Class'].mean().plot(kind='bar');\n",
    "plt.title('Rate of success per orbit');"
   ],
   "execution_count":6,
   "outputs":[
    {
     "data":{
      "image\/png":"[encoded data removed]"
     },
     "metadata":{
      "image\/png":{
       
      }
     },
     "output_type":"display_data"
    }
   ],
   "metadata":{
    "datalore":{
     "node_id":"Xc7vdha7FDUyX77FOYnh7X",
     "type":"CODE",
     "hide_input_from_viewers":false,
     "hide_output_from_viewers":false,
     "report_properties":{
      "rowId":"rQbtipQMmveWJKQW9CTbXh"
     }
    }
   }
  },
  {
   "cell_type":"code",
   "source":[
    "df['Orbit'].value_counts().plot(kind='bar');\n",
    "plt.barh(y=df['Orbit'].value_counts().mean(), width=10, color='red');\n",
    "plt.xlabel('Orbit')\n",
    "plt.title('Number of launches per orbit');"
   ],
   "execution_count":7,
   "outputs":[
    {
     "data":{
      "image\/png":"[encoded data removed]"
     },
     "metadata":{
      "image\/png":{
       
      }
     },
     "output_type":"display_data"
    }
   ],
   "metadata":{
    "datalore":{
     "node_id":"b3uCJAzOSB4jRIGGu76qa8",
     "type":"CODE",
     "hide_input_from_viewers":true,
     "hide_output_from_viewers":true
    }
   }
  },
  {
   "cell_type":"markdown",
   "source":[
    "Analyze the ploted bar chart try to find which orbits have high sucess rate."
   ],
   "attachments":{
    
   },
   "metadata":{
    "datalore":{
     "node_id":"ua5dYOzzB7l7EvIatvQ6Y2",
     "type":"MD",
     "hide_input_from_viewers":false,
     "hide_output_from_viewers":false,
     "report_properties":{
      "rowId":"rQbtipQMmveWJKQW9CTbXh"
     }
    }
   }
  },
  {
   "cell_type":"markdown",
   "source":[
    "### TASK  4: Visualize the relationship between FlightNumber and Orbit type"
   ],
   "attachments":{
    
   },
   "metadata":{
    "datalore":{
     "node_id":"m6nS9h4wSzXFaKfZ4Zf98h",
     "type":"MD",
     "hide_input_from_viewers":false,
     "hide_output_from_viewers":false,
     "report_properties":{
      "rowId":"rQbtipQMmveWJKQW9CTbXh"
     }
    }
   }
  },
  {
   "cell_type":"markdown",
   "source":[
    "For each orbit, we want to see if there is any relationship between FlightNumber and Orbit type."
   ],
   "attachments":{
    
   },
   "metadata":{
    "datalore":{
     "node_id":"uLa1wbMFYReqqgwzhLfISY",
     "type":"MD",
     "hide_input_from_viewers":false,
     "hide_output_from_viewers":false,
     "report_properties":{
      "rowId":"rQbtipQMmveWJKQW9CTbXh"
     }
    }
   }
  },
  {
   "cell_type":"code",
   "source":[
    "# Plot a scatter point chart with x axis to be FlightNumber and y axis to be the Orbit, and hue to be the class value\n",
    "fig = sns.catplot(y=\"Orbit\", x=\"FlightNumber\", hue=\"Class\", data=df, aspect = 5)\n",
    "plt.xlabel(\"Flight Number\",fontsize=20)\n",
    "plt.ylabel(\"Orbit\",fontsize=20)\n",
    "plt.show()\n",
    "fig.savefig('FNvsOrbit.png')"
   ],
   "execution_count":8,
   "outputs":[
    {
     "data":{
      "image\/png":"[encoded data removed]"
     },
     "metadata":{
      "image\/png":{
       
      }
     },
     "output_type":"display_data"
    }
   ],
   "metadata":{
    "datalore":{
     "node_id":"bmvoVPNpiZ80OuLCY0QChE",
     "type":"CODE",
     "hide_input_from_viewers":false,
     "hide_output_from_viewers":false,
     "report_properties":{
      "rowId":"rQbtipQMmveWJKQW9CTbXh"
     }
    }
   }
  },
  {
   "cell_type":"markdown",
   "source":[
    "You should see that in the LEO orbit the Success appears related to the number of flights; on the other hand, there seems to be no relationship between flight number when in GTO orbit."
   ],
   "attachments":{
    
   },
   "metadata":{
    "datalore":{
     "node_id":"DUeKAx06SnX18ttpJp4Wtb",
     "type":"MD",
     "hide_input_from_viewers":false,
     "hide_output_from_viewers":false,
     "report_properties":{
      "rowId":"rQbtipQMmveWJKQW9CTbXh"
     }
    }
   }
  },
  {
   "cell_type":"markdown",
   "source":[
    "### TASK  5: Visualize the relationship between Payload and Orbit type"
   ],
   "attachments":{
    
   },
   "metadata":{
    "datalore":{
     "node_id":"yiXByZCioHACnewz3Cq5h4",
     "type":"MD",
     "hide_input_from_viewers":false,
     "hide_output_from_viewers":false,
     "report_properties":{
      "rowId":"rQbtipQMmveWJKQW9CTbXh"
     }
    }
   }
  },
  {
   "cell_type":"markdown",
   "source":[
    "Similarly, we can plot the Payload vs. Orbit scatter point charts to reveal the relationship between Payload and Orbit type"
   ],
   "attachments":{
    
   },
   "metadata":{
    "datalore":{
     "node_id":"sZxydsTrlJrzzjg8RZtKFY",
     "type":"MD",
     "hide_input_from_viewers":false,
     "hide_output_from_viewers":false,
     "report_properties":{
      "rowId":"rQbtipQMmveWJKQW9CTbXh"
     }
    }
   }
  },
  {
   "cell_type":"code",
   "source":[
    "# Plot a scatter point chart with x axis to be Payload and y axis to be the Orbit, and hue to be the class value\n",
    "fig = sns.catplot(y=\"PayloadMass\", x=\"Orbit\", hue=\"Class\", data=df, aspect = 5)\n",
    "plt.xlabel(\"Orbit\",fontsize=20)\n",
    "plt.ylabel(\"Pay load Mass (Kg)\",fontsize=20)\n",
    "plt.show()\n",
    "fig.savefig('OrbitvsPLM.png')"
   ],
   "execution_count":9,
   "outputs":[
    {
     "data":{
      "image\/png":"[encoded data removed]"
     },
     "metadata":{
      "image\/png":{
       
      }
     },
     "output_type":"display_data"
    }
   ],
   "metadata":{
    "datalore":{
     "node_id":"Y7Y5jEVsKMVVfA57YQFxKK",
     "type":"CODE",
     "hide_input_from_viewers":false,
     "hide_output_from_viewers":false,
     "report_properties":{
      "rowId":"rQbtipQMmveWJKQW9CTbXh"
     }
    }
   }
  },
  {
   "cell_type":"markdown",
   "source":[
    "With heavy payloads the successful landing or positive landing rate are more for Polar,LEO and ISS.\n",
    "\n",
    "However for GTO we cannot distinguish this well as both positive landing rate and negative landing(unsuccessful mission) are both there here."
   ],
   "attachments":{
    
   },
   "metadata":{
    "datalore":{
     "node_id":"T3e9GPNeexb4ViRQxTNKBf",
     "type":"MD",
     "hide_input_from_viewers":false,
     "hide_output_from_viewers":false,
     "report_properties":{
      "rowId":"rQbtipQMmveWJKQW9CTbXh"
     }
    }
   }
  },
  {
   "cell_type":"markdown",
   "source":[
    "### TASK  6: Visualize the launch success yearly trend"
   ],
   "attachments":{
    
   },
   "metadata":{
    "datalore":{
     "node_id":"zs15duT20nc2OYN12grFs1",
     "type":"MD",
     "hide_input_from_viewers":false,
     "hide_output_from_viewers":false,
     "report_properties":{
      "rowId":"rQbtipQMmveWJKQW9CTbXh"
     }
    }
   }
  },
  {
   "cell_type":"markdown",
   "source":[
    "You can plot a line chart with x axis to be <code>Year<\/code> and y axis to be average success rate, to get the average launch success trend."
   ],
   "attachments":{
    
   },
   "metadata":{
    "datalore":{
     "node_id":"jbM2Sf3Sbc5pSFTqTWLVvg",
     "type":"MD",
     "hide_input_from_viewers":false,
     "hide_output_from_viewers":false,
     "report_properties":{
      "rowId":"rQbtipQMmveWJKQW9CTbXh"
     }
    }
   }
  },
  {
   "cell_type":"markdown",
   "source":[
    "The function will help you get the year from the date:"
   ],
   "attachments":{
    
   },
   "metadata":{
    "datalore":{
     "node_id":"qnqjO2YGcN3udJDv7e3QLo",
     "type":"MD",
     "hide_input_from_viewers":false,
     "hide_output_from_viewers":false,
     "report_properties":{
      "rowId":"rQbtipQMmveWJKQW9CTbXh"
     }
    }
   }
  },
  {
   "cell_type":"code",
   "source":[
    "# A function to Extract years from the date \n",
    "year=[]\n",
    "def Extract_year(date):\n",
    "    for i in df[\"Date\"]:\n",
    "        year.append(i.split(\"-\")[0])\n",
    "    return year\n",
    "\n",
    "Extract_year(df[\"Date\"])"
   ],
   "execution_count":10,
   "outputs":[
    {
     "data":{
      "text\/plain":[
       "['2010',\n",
       " '2012',\n",
       " '2013',\n",
       " '2013',\n",
       " '2013',\n",
       " '2014',\n",
       " '2014',\n",
       " '2014',\n",
       " '2014',\n",
       " '2014',\n",
       " '2014',\n",
       " '2015',\n",
       " '2015',\n",
       " '2015',\n",
       " '2015',\n",
       " '2015',\n",
       " '2015',\n",
       " '2016',\n",
       " '2016',\n",
       " '2016',\n",
       " '2016',\n",
       " '2016',\n",
       " '2016',\n",
       " '2016',\n",
       " '2016',\n",
       " '2017',\n",
       " '2017',\n",
       " '2017',\n",
       " '2017',\n",
       " '2017',\n",
       " '2017',\n",
       " '2017',\n",
       " '2017',\n",
       " '2017',\n",
       " '2017',\n",
       " '2017',\n",
       " '2017',\n",
       " '2017',\n",
       " '2017',\n",
       " '2017',\n",
       " '2017',\n",
       " '2017',\n",
       " '2017',\n",
       " '2018',\n",
       " '2018',\n",
       " '2018',\n",
       " '2018',\n",
       " '2018',\n",
       " '2018',\n",
       " '2018',\n",
       " '2018',\n",
       " '2018',\n",
       " '2018',\n",
       " '2018',\n",
       " '2018',\n",
       " '2018',\n",
       " '2018',\n",
       " '2018',\n",
       " '2018',\n",
       " '2018',\n",
       " '2018',\n",
       " '2019',\n",
       " '2019',\n",
       " '2019',\n",
       " '2019',\n",
       " '2019',\n",
       " '2019',\n",
       " '2019',\n",
       " '2019',\n",
       " '2019',\n",
       " '2019',\n",
       " '2020',\n",
       " '2020',\n",
       " '2020',\n",
       " '2020',\n",
       " '2020',\n",
       " '2020',\n",
       " '2020',\n",
       " '2020',\n",
       " '2020',\n",
       " '2020',\n",
       " '2020',\n",
       " '2020',\n",
       " '2020',\n",
       " '2020',\n",
       " '2020',\n",
       " '2020',\n",
       " '2020',\n",
       " '2020',\n",
       " '2020']"
      ]
     },
     "metadata":{
      
     },
     "output_type":"display_data"
    }
   ],
   "metadata":{
    "datalore":{
     "node_id":"cBnwsMnrhyCJdhsccllk55",
     "type":"CODE",
     "hide_input_from_viewers":false,
     "hide_output_from_viewers":false,
     "report_properties":{
      "rowId":"rQbtipQMmveWJKQW9CTbXh"
     }
    }
   }
  },
  {
   "cell_type":"code",
   "source":[
    "# Plot a line chart with x axis to be the extracted year and y axis to be the success rate\n",
    "df['year'] = pd.Series(year)\n",
    "sns.lineplot(x='year', y='Class', data=df);\n",
    "plt.title('Trend of success rate along years');"
   ],
   "execution_count":11,
   "outputs":[
    {
     "data":{
      "image\/png":"[encoded data removed]"
     },
     "metadata":{
      "image\/png":{
       
      }
     },
     "output_type":"display_data"
    }
   ],
   "metadata":{
    "datalore":{
     "node_id":"IkJHUq9ttltcEuZXlet8XU",
     "type":"CODE",
     "hide_input_from_viewers":false,
     "hide_output_from_viewers":false,
     "report_properties":{
      "rowId":"rQbtipQMmveWJKQW9CTbXh"
     }
    }
   }
  },
  {
   "cell_type":"markdown",
   "source":[
    "you can observe that the sucess rate since 2013 kept increasing till 2020"
   ],
   "attachments":{
    
   },
   "metadata":{
    "datalore":{
     "node_id":"n7qoCV4YrE0Tnstn9Edc2s",
     "type":"MD",
     "hide_input_from_viewers":false,
     "hide_output_from_viewers":false,
     "report_properties":{
      "rowId":"rQbtipQMmveWJKQW9CTbXh"
     }
    }
   }
  },
  {
   "cell_type":"markdown",
   "source":[
    "## Features Engineering"
   ],
   "attachments":{
    
   },
   "metadata":{
    "datalore":{
     "node_id":"49DwUqH6SpjkiJvbjEvOeR",
     "type":"MD",
     "hide_input_from_viewers":false,
     "hide_output_from_viewers":false,
     "report_properties":{
      "rowId":"rQbtipQMmveWJKQW9CTbXh"
     }
    }
   }
  },
  {
   "cell_type":"markdown",
   "source":[
    "By now, you should obtain some preliminary insights about how each important variable would affect the success rate, we will select the features that will be used in success prediction in the future module."
   ],
   "attachments":{
    
   },
   "metadata":{
    "datalore":{
     "node_id":"0Wtyjyfr6QOQBKxSKkK38k",
     "type":"MD",
     "hide_input_from_viewers":false,
     "hide_output_from_viewers":false,
     "report_properties":{
      "rowId":"rQbtipQMmveWJKQW9CTbXh"
     }
    }
   }
  },
  {
   "cell_type":"code",
   "source":[
    "features = df[['FlightNumber', 'PayloadMass', 'Orbit', 'LaunchSite', 'Flights', 'GridFins', 'Reused', 'Legs', 'LandingPad', 'Block', 'ReusedCount', 'Serial']]\n",
    "features.head()"
   ],
   "execution_count":12,
   "outputs":[
    {
     "data":{
      "text\/html":[
       "<div>\n",
       "<style scoped>\n",
       "    .dataframe tbody tr th:only-of-type {\n",
       "        vertical-align: middle;\n",
       "    }\n",
       "\n",
       "    .dataframe tbody tr th {\n",
       "        vertical-align: top;\n",
       "    }\n",
       "\n",
       "    .dataframe thead th {\n",
       "        text-align: right;\n",
       "    }\n",
       "<\/style>\n",
       "<table border=\"1\" class=\"dataframe\">\n",
       "  <thead>\n",
       "    <tr style=\"text-align: right;\">\n",
       "      <th><\/th>\n",
       "      <th>FlightNumber<\/th>\n",
       "      <th>PayloadMass<\/th>\n",
       "      <th>Orbit<\/th>\n",
       "      <th>LaunchSite<\/th>\n",
       "      <th>Flights<\/th>\n",
       "      <th>GridFins<\/th>\n",
       "      <th>Reused<\/th>\n",
       "      <th>Legs<\/th>\n",
       "      <th>LandingPad<\/th>\n",
       "      <th>Block<\/th>\n",
       "      <th>ReusedCount<\/th>\n",
       "      <th>Serial<\/th>\n",
       "    <\/tr>\n",
       "  <\/thead>\n",
       "  <tbody>\n",
       "    <tr>\n",
       "      <th>0<\/th>\n",
       "      <td>1<\/td>\n",
       "      <td>6104.959412<\/td>\n",
       "      <td>LEO<\/td>\n",
       "      <td>CCAFS SLC 40<\/td>\n",
       "      <td>1<\/td>\n",
       "      <td>False<\/td>\n",
       "      <td>False<\/td>\n",
       "      <td>False<\/td>\n",
       "      <td>NaN<\/td>\n",
       "      <td>1.0<\/td>\n",
       "      <td>0<\/td>\n",
       "      <td>B0003<\/td>\n",
       "    <\/tr>\n",
       "    <tr>\n",
       "      <th>1<\/th>\n",
       "      <td>2<\/td>\n",
       "      <td>525.000000<\/td>\n",
       "      <td>LEO<\/td>\n",
       "      <td>CCAFS SLC 40<\/td>\n",
       "      <td>1<\/td>\n",
       "      <td>False<\/td>\n",
       "      <td>False<\/td>\n",
       "      <td>False<\/td>\n",
       "      <td>NaN<\/td>\n",
       "      <td>1.0<\/td>\n",
       "      <td>0<\/td>\n",
       "      <td>B0005<\/td>\n",
       "    <\/tr>\n",
       "    <tr>\n",
       "      <th>2<\/th>\n",
       "      <td>3<\/td>\n",
       "      <td>677.000000<\/td>\n",
       "      <td>ISS<\/td>\n",
       "      <td>CCAFS SLC 40<\/td>\n",
       "      <td>1<\/td>\n",
       "      <td>False<\/td>\n",
       "      <td>False<\/td>\n",
       "      <td>False<\/td>\n",
       "      <td>NaN<\/td>\n",
       "      <td>1.0<\/td>\n",
       "      <td>0<\/td>\n",
       "      <td>B0007<\/td>\n",
       "    <\/tr>\n",
       "    <tr>\n",
       "      <th>3<\/th>\n",
       "      <td>4<\/td>\n",
       "      <td>500.000000<\/td>\n",
       "      <td>PO<\/td>\n",
       "      <td>VAFB SLC 4E<\/td>\n",
       "      <td>1<\/td>\n",
       "      <td>False<\/td>\n",
       "      <td>False<\/td>\n",
       "      <td>False<\/td>\n",
       "      <td>NaN<\/td>\n",
       "      <td>1.0<\/td>\n",
       "      <td>0<\/td>\n",
       "      <td>B1003<\/td>\n",
       "    <\/tr>\n",
       "    <tr>\n",
       "      <th>4<\/th>\n",
       "      <td>5<\/td>\n",
       "      <td>3170.000000<\/td>\n",
       "      <td>GTO<\/td>\n",
       "      <td>CCAFS SLC 40<\/td>\n",
       "      <td>1<\/td>\n",
       "      <td>False<\/td>\n",
       "      <td>False<\/td>\n",
       "      <td>False<\/td>\n",
       "      <td>NaN<\/td>\n",
       "      <td>1.0<\/td>\n",
       "      <td>0<\/td>\n",
       "      <td>B1004<\/td>\n",
       "    <\/tr>\n",
       "  <\/tbody>\n",
       "<\/table>\n",
       "<\/div>"
      ]
     },
     "metadata":{
      
     },
     "output_type":"display_data"
    }
   ],
   "metadata":{
    "datalore":{
     "node_id":"mnNyhBVX3HYhh7zR0jSU9L",
     "type":"CODE",
     "hide_input_from_viewers":false,
     "hide_output_from_viewers":false,
     "report_properties":{
      "rowId":"rQbtipQMmveWJKQW9CTbXh"
     }
    }
   }
  },
  {
   "cell_type":"markdown",
   "source":[
    "### TASK  7: Create dummy variables to categorical columns"
   ],
   "attachments":{
    
   },
   "metadata":{
    "datalore":{
     "node_id":"YvXfsBRuVkRCqv1BhvCAi6",
     "type":"MD",
     "hide_input_from_viewers":false,
     "hide_output_from_viewers":false,
     "report_properties":{
      "rowId":"rQbtipQMmveWJKQW9CTbXh"
     }
    }
   }
  },
  {
   "cell_type":"markdown",
   "source":[
    "Use the function <code>get_dummies<\/code> and <code>features<\/code> dataframe to apply OneHotEncoder to the column <code>Orbits<\/code>, <code>LaunchSite<\/code>, <code>LandingPad<\/code>, and <code>Serial<\/code>. Assign the value to the variable <code>features_one_hot<\/code>, display the results using the method head. Your result dataframe must include all features including the encoded ones."
   ],
   "attachments":{
    
   },
   "metadata":{
    "datalore":{
     "node_id":"wABJAO1E6RC3dAegEq21He",
     "type":"MD",
     "hide_input_from_viewers":false,
     "hide_output_from_viewers":false,
     "report_properties":{
      "rowId":"rQbtipQMmveWJKQW9CTbXh"
     }
    }
   }
  },
  {
   "cell_type":"code",
   "source":[
    "# HINT: Use get_dummies() function on the categorical columns\n",
    "features_one_hot = pd.get_dummies(features)\n",
    "features_one_hot.head()"
   ],
   "execution_count":13,
   "outputs":[
    {
     "data":{
      "text\/html":[
       "<div>\n",
       "<style scoped>\n",
       "    .dataframe tbody tr th:only-of-type {\n",
       "        vertical-align: middle;\n",
       "    }\n",
       "\n",
       "    .dataframe tbody tr th {\n",
       "        vertical-align: top;\n",
       "    }\n",
       "\n",
       "    .dataframe thead th {\n",
       "        text-align: right;\n",
       "    }\n",
       "<\/style>\n",
       "<table border=\"1\" class=\"dataframe\">\n",
       "  <thead>\n",
       "    <tr style=\"text-align: right;\">\n",
       "      <th><\/th>\n",
       "      <th>FlightNumber<\/th>\n",
       "      <th>PayloadMass<\/th>\n",
       "      <th>Flights<\/th>\n",
       "      <th>GridFins<\/th>\n",
       "      <th>Reused<\/th>\n",
       "      <th>Legs<\/th>\n",
       "      <th>Block<\/th>\n",
       "      <th>ReusedCount<\/th>\n",
       "      <th>Orbit_ES-L1<\/th>\n",
       "      <th>Orbit_GEO<\/th>\n",
       "      <th>...<\/th>\n",
       "      <th>Serial_B1048<\/th>\n",
       "      <th>Serial_B1049<\/th>\n",
       "      <th>Serial_B1050<\/th>\n",
       "      <th>Serial_B1051<\/th>\n",
       "      <th>Serial_B1054<\/th>\n",
       "      <th>Serial_B1056<\/th>\n",
       "      <th>Serial_B1058<\/th>\n",
       "      <th>Serial_B1059<\/th>\n",
       "      <th>Serial_B1060<\/th>\n",
       "      <th>Serial_B1062<\/th>\n",
       "    <\/tr>\n",
       "  <\/thead>\n",
       "  <tbody>\n",
       "    <tr>\n",
       "      <th>0<\/th>\n",
       "      <td>1<\/td>\n",
       "      <td>6104.959412<\/td>\n",
       "      <td>1<\/td>\n",
       "      <td>False<\/td>\n",
       "      <td>False<\/td>\n",
       "      <td>False<\/td>\n",
       "      <td>1.0<\/td>\n",
       "      <td>0<\/td>\n",
       "      <td>0<\/td>\n",
       "      <td>0<\/td>\n",
       "      <td>...<\/td>\n",
       "      <td>0<\/td>\n",
       "      <td>0<\/td>\n",
       "      <td>0<\/td>\n",
       "      <td>0<\/td>\n",
       "      <td>0<\/td>\n",
       "      <td>0<\/td>\n",
       "      <td>0<\/td>\n",
       "      <td>0<\/td>\n",
       "      <td>0<\/td>\n",
       "      <td>0<\/td>\n",
       "    <\/tr>\n",
       "    <tr>\n",
       "      <th>1<\/th>\n",
       "      <td>2<\/td>\n",
       "      <td>525.000000<\/td>\n",
       "      <td>1<\/td>\n",
       "      <td>False<\/td>\n",
       "      <td>False<\/td>\n",
       "      <td>False<\/td>\n",
       "      <td>1.0<\/td>\n",
       "      <td>0<\/td>\n",
       "      <td>0<\/td>\n",
       "      <td>0<\/td>\n",
       "      <td>...<\/td>\n",
       "      <td>0<\/td>\n",
       "      <td>0<\/td>\n",
       "      <td>0<\/td>\n",
       "      <td>0<\/td>\n",
       "      <td>0<\/td>\n",
       "      <td>0<\/td>\n",
       "      <td>0<\/td>\n",
       "      <td>0<\/td>\n",
       "      <td>0<\/td>\n",
       "      <td>0<\/td>\n",
       "    <\/tr>\n",
       "    <tr>\n",
       "      <th>2<\/th>\n",
       "      <td>3<\/td>\n",
       "      <td>677.000000<\/td>\n",
       "      <td>1<\/td>\n",
       "      <td>False<\/td>\n",
       "      <td>False<\/td>\n",
       "      <td>False<\/td>\n",
       "      <td>1.0<\/td>\n",
       "      <td>0<\/td>\n",
       "      <td>0<\/td>\n",
       "      <td>0<\/td>\n",
       "      <td>...<\/td>\n",
       "      <td>0<\/td>\n",
       "      <td>0<\/td>\n",
       "      <td>0<\/td>\n",
       "      <td>0<\/td>\n",
       "      <td>0<\/td>\n",
       "      <td>0<\/td>\n",
       "      <td>0<\/td>\n",
       "      <td>0<\/td>\n",
       "      <td>0<\/td>\n",
       "      <td>0<\/td>\n",
       "    <\/tr>\n",
       "    <tr>\n",
       "      <th>3<\/th>\n",
       "      <td>4<\/td>\n",
       "      <td>500.000000<\/td>\n",
       "      <td>1<\/td>\n",
       "      <td>False<\/td>\n",
       "      <td>False<\/td>\n",
       "      <td>False<\/td>\n",
       "      <td>1.0<\/td>\n",
       "      <td>0<\/td>\n",
       "      <td>0<\/td>\n",
       "      <td>0<\/td>\n",
       "      <td>...<\/td>\n",
       "      <td>0<\/td>\n",
       "      <td>0<\/td>\n",
       "      <td>0<\/td>\n",
       "      <td>0<\/td>\n",
       "      <td>0<\/td>\n",
       "      <td>0<\/td>\n",
       "      <td>0<\/td>\n",
       "      <td>0<\/td>\n",
       "      <td>0<\/td>\n",
       "      <td>0<\/td>\n",
       "    <\/tr>\n",
       "    <tr>\n",
       "      <th>4<\/th>\n",
       "      <td>5<\/td>\n",
       "      <td>3170.000000<\/td>\n",
       "      <td>1<\/td>\n",
       "      <td>False<\/td>\n",
       "      <td>False<\/td>\n",
       "      <td>False<\/td>\n",
       "      <td>1.0<\/td>\n",
       "      <td>0<\/td>\n",
       "      <td>0<\/td>\n",
       "      <td>0<\/td>\n",
       "      <td>...<\/td>\n",
       "      <td>0<\/td>\n",
       "      <td>0<\/td>\n",
       "      <td>0<\/td>\n",
       "      <td>0<\/td>\n",
       "      <td>0<\/td>\n",
       "      <td>0<\/td>\n",
       "      <td>0<\/td>\n",
       "      <td>0<\/td>\n",
       "      <td>0<\/td>\n",
       "      <td>0<\/td>\n",
       "    <\/tr>\n",
       "  <\/tbody>\n",
       "<\/table>\n",
       "<p>5 rows × 80 columns<\/p>\n",
       "<\/div>"
      ]
     },
     "metadata":{
      
     },
     "output_type":"display_data"
    }
   ],
   "metadata":{
    "datalore":{
     "node_id":"EszdA8945EGvIEQ3RBoTw8",
     "type":"CODE",
     "hide_input_from_viewers":false,
     "hide_output_from_viewers":false,
     "report_properties":{
      "rowId":"rQbtipQMmveWJKQW9CTbXh"
     }
    }
   }
  },
  {
   "cell_type":"markdown",
   "source":[
    "### TASK  8: Cast all numeric columns to `float64`"
   ],
   "attachments":{
    
   },
   "metadata":{
    "datalore":{
     "node_id":"g7wln621aH37KWgVaPX1ZL",
     "type":"MD",
     "hide_input_from_viewers":false,
     "hide_output_from_viewers":false,
     "report_properties":{
      "rowId":"rQbtipQMmveWJKQW9CTbXh"
     }
    }
   }
  },
  {
   "cell_type":"markdown",
   "source":[
    "Now that our <code>features_one_hot<\/code> dataframe only contains numbers cast the entire dataframe to variable type <code>float64<\/code>"
   ],
   "attachments":{
    
   },
   "metadata":{
    "datalore":{
     "node_id":"z8twGmbsPxnjwvoyP2JoFr",
     "type":"MD",
     "hide_input_from_viewers":false,
     "hide_output_from_viewers":false,
     "report_properties":{
      "rowId":"rQbtipQMmveWJKQW9CTbXh"
     }
    }
   }
  },
  {
   "cell_type":"code",
   "source":[
    "# HINT: use astype function\n",
    "features_one_hot = features_one_hot.astype(float)\n",
    "features_one_hot.info()"
   ],
   "execution_count":14,
   "outputs":[
    {
     "name":"stdout",
     "text":[
      "<class 'pandas.core.frame.DataFrame'>\n",
      "RangeIndex: 90 entries, 0 to 89\n",
      "Data columns (total 80 columns):\n",
      " #   Column                               Non-Null Count  Dtype  \n",
      "---  ------                               --------------  -----  \n",
      " 0   FlightNumber                         90 non-null     float64\n",
      " 1   PayloadMass                          90 non-null     float64\n",
      " 2   Flights                              90 non-null     float64\n",
      " 3   GridFins                             90 non-null     float64\n",
      " 4   Reused                               90 non-null     float64\n",
      " 5   Legs                                 90 non-null     float64\n",
      " 6   Block                                90 non-null     float64\n",
      " 7   ReusedCount                          90 non-null     float64\n",
      " 8   Orbit_ES-L1                          90 non-null     float64\n",
      " 9   Orbit_GEO                            90 non-null     float64\n",
      " 10  Orbit_GTO                            90 non-null     float64\n",
      " 11  Orbit_HEO                            90 non-null     float64\n",
      " 12  Orbit_ISS                            90 non-null     float64\n",
      " 13  Orbit_LEO                            90 non-null     float64\n",
      " 14  Orbit_MEO                            90 non-null     float64\n",
      " 15  Orbit_PO                             90 non-null     float64\n",
      " 16  Orbit_SO                             90 non-null     float64\n",
      " 17  Orbit_SSO                            90 non-null     float64\n",
      " 18  Orbit_VLEO                           90 non-null     float64\n",
      " 19  LaunchSite_CCAFS SLC 40              90 non-null     float64\n",
      " 20  LaunchSite_KSC LC 39A                90 non-null     float64\n",
      " 21  LaunchSite_VAFB SLC 4E               90 non-null     float64\n",
      " 22  LandingPad_5e9e3032383ecb267a34e7c7  90 non-null     float64\n",
      " 23  LandingPad_5e9e3032383ecb554034e7c9  90 non-null     float64\n",
      " 24  LandingPad_5e9e3032383ecb6bb234e7ca  90 non-null     float64\n",
      " 25  LandingPad_5e9e3032383ecb761634e7cb  90 non-null     float64\n",
      " 26  LandingPad_5e9e3033383ecbb9e534e7cc  90 non-null     float64\n",
      " 27  Serial_B0003                         90 non-null     float64\n",
      " 28  Serial_B0005                         90 non-null     float64\n",
      " 29  Serial_B0007                         90 non-null     float64\n",
      " 30  Serial_B1003                         90 non-null     float64\n",
      " 31  Serial_B1004                         90 non-null     float64\n",
      " 32  Serial_B1005                         90 non-null     float64\n",
      " 33  Serial_B1006                         90 non-null     float64\n",
      " 34  Serial_B1007                         90 non-null     float64\n",
      " 35  Serial_B1008                         90 non-null     float64\n",
      " 36  Serial_B1010                         90 non-null     float64\n",
      " 37  Serial_B1011                         90 non-null     float64\n",
      " 38  Serial_B1012                         90 non-null     float64\n",
      " 39  Serial_B1013                         90 non-null     float64\n",
      " 40  Serial_B1015                         90 non-null     float64\n",
      " 41  Serial_B1016                         90 non-null     float64\n",
      " 42  Serial_B1017                         90 non-null     float64\n",
      " 43  Serial_B1018                         90 non-null     float64\n",
      " 44  Serial_B1019                         90 non-null     float64\n",
      " 45  Serial_B1020                         90 non-null     float64\n",
      " 46  Serial_B1021                         90 non-null     float64\n",
      " 47  Serial_B1022                         90 non-null     float64\n",
      " 48  Serial_B1023                         90 non-null     float64\n",
      " 49  Serial_B1025                         90 non-null     float64\n",
      " 50  Serial_B1026                         90 non-null     float64\n",
      " 51  Serial_B1028                         90 non-null     float64\n",
      " 52  Serial_B1029                         90 non-null     float64\n",
      " 53  Serial_B1030                         90 non-null     float64\n",
      " 54  Serial_B1031                         90 non-null     float64\n",
      " 55  Serial_B1032                         90 non-null     float64\n",
      " 56  Serial_B1034                         90 non-null     float64\n",
      " 57  Serial_B1035                         90 non-null     float64\n",
      " 58  Serial_B1036                         90 non-null     float64\n",
      " 59  Serial_B1037                         90 non-null     float64\n",
      " 60  Serial_B1038                         90 non-null     float64\n",
      " 61  Serial_B1039                         90 non-null     float64\n",
      " 62  Serial_B1040                         90 non-null     float64\n",
      " 63  Serial_B1041                         90 non-null     float64\n",
      " 64  Serial_B1042                         90 non-null     float64\n",
      " 65  Serial_B1043                         90 non-null     float64\n",
      " 66  Serial_B1044                         90 non-null     float64\n",
      " 67  Serial_B1045                         90 non-null     float64\n",
      " 68  Serial_B1046                         90 non-null     float64\n",
      " 69  Serial_B1047                         90 non-null     float64\n",
      " 70  Serial_B1048                         90 non-null     float64\n",
      " 71  Serial_B1049                         90 non-null     float64\n",
      " 72  Serial_B1050                         90 non-null     float64\n",
      " 73  Serial_B1051                         90 non-null     float64\n",
      " 74  Serial_B1054                         90 non-null     float64\n",
      " 75  Serial_B1056                         90 non-null     float64\n",
      " 76  Serial_B1058                         90 non-null     float64\n",
      " 77  Serial_B1059                         90 non-null     float64\n",
      " 78  Serial_B1060                         90 non-null     float64\n",
      " 79  Serial_B1062                         90 non-null     float64\n",
      "dtypes: float64(80)\n",
      "memory usage: 56.4 KB\n"
     ],
     "output_type":"stream"
    }
   ],
   "metadata":{
    "datalore":{
     "node_id":"dF1ofotbFeurIirCX3im8t",
     "type":"CODE",
     "hide_input_from_viewers":false,
     "hide_output_from_viewers":false,
     "report_properties":{
      "rowId":"rQbtipQMmveWJKQW9CTbXh"
     }
    }
   }
  },
  {
   "cell_type":"markdown",
   "source":[
    "We can now export it to a <b>CSV<\/b> for the next section,but to make the answers consistent, in the next lab we will provide data in a pre-selected date range."
   ],
   "attachments":{
    
   },
   "metadata":{
    "datalore":{
     "node_id":"WVCEWXi9ANY6Jcev6Tc5gh",
     "type":"MD",
     "hide_input_from_viewers":false,
     "hide_output_from_viewers":false,
     "report_properties":{
      "rowId":"rQbtipQMmveWJKQW9CTbXh"
     }
    }
   }
  },
  {
   "cell_type":"markdown",
   "source":[
    "<code>features_one_hot.to_csv('dataset_part\\_3.csv', index=False)<\/code>"
   ],
   "attachments":{
    
   },
   "metadata":{
    "datalore":{
     "node_id":"SMIAwszVUGMzDLQsWLR3ik",
     "type":"MD",
     "hide_input_from_viewers":false,
     "hide_output_from_viewers":false,
     "report_properties":{
      "rowId":"rQbtipQMmveWJKQW9CTbXh"
     }
    }
   }
  },
  {
   "cell_type":"markdown",
   "source":[
    "## Authors"
   ],
   "attachments":{
    
   },
   "metadata":{
    "datalore":{
     "node_id":"Pz68fKk50lFxLJYpnbJzWg",
     "type":"MD",
     "hide_input_from_viewers":false,
     "hide_output_from_viewers":false,
     "report_properties":{
      "rowId":"rQbtipQMmveWJKQW9CTbXh"
     }
    }
   }
  },
  {
   "cell_type":"markdown",
   "source":[
    "<a href=\"https:\/\/www.linkedin.com\/in\/joseph-s-50398b136\/?utm_medium=Exinfluencer&utm_source=Exinfluencer&utm_content=000026UJ&utm_term=10006555&utm_id=NA-SkillsNetwork-Channel-SkillsNetworkCoursesIBMDS0321ENSkillsNetwork26802033-2022-01-01\">Joseph Santarcangelo<\/a> has a PhD in Electrical Engineering, his research focused on using machine learning, signal processing, and computer vision to determine how videos impact human cognition. Joseph has been working for IBM since he completed his PhD."
   ],
   "attachments":{
    
   },
   "metadata":{
    "datalore":{
     "node_id":"okR9PcqwQjm0GS9h0wUo9c",
     "type":"MD",
     "hide_input_from_viewers":false,
     "hide_output_from_viewers":false,
     "report_properties":{
      "rowId":"rQbtipQMmveWJKQW9CTbXh"
     }
    }
   }
  },
  {
   "cell_type":"markdown",
   "source":[
    "<a href=\"https:\/\/www.linkedin.com\/in\/nayefaboutayoun\/?utm_medium=Exinfluencer&utm_source=Exinfluencer&utm_content=000026UJ&utm_term=10006555&utm_id=NA-SkillsNetwork-Channel-SkillsNetworkCoursesIBMDS0321ENSkillsNetwork26802033-2022-01-01\">Nayef Abou Tayoun<\/a> is a Data Scientist at IBM and pursuing a Master of Management in Artificial intelligence degree at Queen's University."
   ],
   "attachments":{
    
   },
   "metadata":{
    "datalore":{
     "node_id":"QPFn7ESDu3fwkJULMWdxKn",
     "type":"MD",
     "hide_input_from_viewers":false,
     "hide_output_from_viewers":false,
     "report_properties":{
      "rowId":"rQbtipQMmveWJKQW9CTbXh"
     }
    }
   }
  },
  {
   "cell_type":"markdown",
   "source":[
    "## Change Log"
   ],
   "attachments":{
    
   },
   "metadata":{
    "datalore":{
     "node_id":"A6GM2yOFrVt0ctXtUHy9Ue",
     "type":"MD",
     "hide_input_from_viewers":false,
     "hide_output_from_viewers":false,
     "report_properties":{
      "rowId":"rQbtipQMmveWJKQW9CTbXh"
     }
    }
   }
  },
  {
   "cell_type":"markdown",
   "source":[
    "| Date (YYYY-MM-DD) | Version | Changed By    | Change Description      |\n",
    "| ----------------- | ------- | ------------- | ----------------------- |\n",
    "| 2021-10-12        | 1.1     | Lakshmi Holla | Modified markdown       |\n",
    "| 2020-09-20        | 1.0     | Joseph        | Modified Multiple Areas |\n",
    "| 2020-11-10        | 1.1     | Nayef         | updating the input data |"
   ],
   "attachments":{
    
   },
   "metadata":{
    "datalore":{
     "node_id":"ByJtO69IYeV4DNrxChgV7z",
     "type":"MD",
     "hide_input_from_viewers":false,
     "hide_output_from_viewers":false,
     "report_properties":{
      "rowId":"rQbtipQMmveWJKQW9CTbXh"
     }
    }
   }
  },
  {
   "cell_type":"markdown",
   "source":[
    "Copyright © 2020 IBM Corporation. All rights reserved."
   ],
   "attachments":{
    
   },
   "metadata":{
    "datalore":{
     "node_id":"N79hEAU6e5J40gGx88xajz",
     "type":"MD",
     "hide_input_from_viewers":false,
     "hide_output_from_viewers":false,
     "report_properties":{
      "rowId":"rQbtipQMmveWJKQW9CTbXh"
     }
    }
   }
  }
 ],
 "metadata":{
  "kernelspec":{
   "display_name":"Python",
   "language":"python",
   "name":"python"
  },
  "datalore":{
   "computation_mode":"JUPYTER",
   "package_manager":"pip",
   "base_environment":"default",
   "packages":[
    
   ],
   "report_row_ids":[
    "rQbtipQMmveWJKQW9CTbXh"
   ],
   "version":2
  }
 },
 "nbformat":4,
 "nbformat_minor":4
}